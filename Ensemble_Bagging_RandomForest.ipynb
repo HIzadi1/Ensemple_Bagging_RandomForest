{
  "nbformat": 4,
  "nbformat_minor": 0,
  "metadata": {
    "colab": {
      "name": "Ensemble_Bagging_RandomForest.ipynb",
      "version": "0.3.2",
      "provenance": [],
      "toc_visible": true,
      "include_colab_link": true
    },
    "kernelspec": {
      "name": "python3",
      "display_name": "Python 3"
    }
  },
  "cells": [
    {
      "cell_type": "markdown",
      "metadata": {
        "id": "view-in-github",
        "colab_type": "text"
      },
      "source": [
        "<a href=\"https://colab.research.google.com/github/HIzadi1/Ensemple_Bagging_RandomForest/blob/master/Ensemble_Bagging_RandomForest.ipynb\" target=\"_parent\"><img src=\"https://colab.research.google.com/assets/colab-badge.svg\" alt=\"Open In Colab\"/></a>"
      ]
    },
    {
      "cell_type": "markdown",
      "metadata": {
        "id": "LMWESmr4pABL",
        "colab_type": "text"
      },
      "source": [
        "# **Ensemble, Bagging and Random Forest:**\n",
        "\n",
        "This Notebook studies how the *decision trees* are used for regression problems and how using *ensemble* and *bagging* techniques on decision tress lead to *Random Forest* algorithm and how it improves the performance of a single decision tree.\n"
      ]
    },
    {
      "cell_type": "markdown",
      "metadata": {
        "id": "lQ_aTbXTeTSH",
        "colab_type": "text"
      },
      "source": [
        "**Pipeline Overview** \n",
        "\n",
        "Most of the ML problems can be solved using this generic pipeline:\n",
        "\n",
        "1) Importing dependencies and required libraries.\n",
        "\n",
        "2) Importing data\n",
        "\n",
        "3) Visualizing data\n",
        "\n",
        "4) Preprocessing data\n",
        "\n",
        "5) Feature extraction/engineering\n",
        "\n",
        "6) Structuring/Selecting the model e.g. decision trees, neural networks\n",
        "\n",
        "7) Training the model\n",
        "\n",
        "8) Testing the model"
      ]
    },
    {
      "cell_type": "markdown",
      "metadata": {
        "id": "3kIJJ5pKo082",
        "colab_type": "text"
      },
      "source": [
        "**Importing Dependencies**"
      ]
    },
    {
      "cell_type": "code",
      "metadata": {
        "id": "RE2zhQgGKNNk",
        "colab_type": "code",
        "colab": {}
      },
      "source": [
        "# import dependencies for data processing\n",
        "import pandas as pd  \n",
        "import numpy as np\n",
        "import matplotlib.pyplot as plt\n",
        "plt.rcParams['figure.figsize'] = [18, 10]\n",
        "import seaborn as sns\n",
        "\n",
        "from sklearn.model_selection import train_test_split\n",
        "\n",
        "%matplotlib inline\n",
        "plt.rcParams['axes.unicode_minus'] = False\n",
        "\n",
        "#google drive api independencies\n",
        "#!pip install -U -q PyDrive\n",
        "#from pydrive.auth import GoogleAuth\n",
        "#from pydrive.drive import GoogleDrive\n",
        "#from google.colab import auth\n",
        "#from oauth2client.client import GoogleCredentials\n",
        "#authenticatation\n",
        "#auth.authenticate_user()\n",
        "#gauth = GoogleAuth()\n",
        "#gauth.credentials = GoogleCredentials.get_application_default()\n",
        "#drive = GoogleDrive(gauth)"
      ],
      "execution_count": 0,
      "outputs": []
    },
    {
      "cell_type": "markdown",
      "metadata": {
        "id": "o3PMRCfBL2gy",
        "colab_type": "text"
      },
      "source": [
        "**Importing** **Data** \n",
        "\n",
        "The data from https://www.kaggle.com/c/nyc-taxi-trip-duration competition is used for this study:"
      ]
    },
    {
      "cell_type": "code",
      "metadata": {
        "id": "VIJ_2pSlSSX_",
        "colab_type": "code",
        "outputId": "14c12a4f-5b6e-4537-bb74-55b50f61dd1a",
        "colab": {
          "resources": {
            "http://localhost:8080/nbextensions/google.colab/files.js": {
              "data": "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",
              "ok": true,
              "headers": [
                [
                  "content-type",
                  "application/javascript"
                ]
              ],
              "status": 200,
              "status_text": "OK"
            }
          },
          "base_uri": "https://localhost:8080/",
          "height": 284
        }
      },
      "source": [
        "# import data from disk\n",
        "from google.colab import files\n",
        "uploaded = files.upload()\n",
        "\n",
        "import io\n",
        "train = pd.read_csv(io.BytesIO(uploaded['train.csv']))\n",
        "\n",
        "#train.head()   #ploting the top rows\n",
        "train.tail()    #ploting the end rows "
      ],
      "execution_count": 29,
      "outputs": [
        {
          "output_type": "display_data",
          "data": {
            "text/html": [
              "\n",
              "     <input type=\"file\" id=\"files-c85c37f3-324e-427f-bf66-d9d86e2ac1e4\" name=\"files[]\" multiple disabled />\n",
              "     <output id=\"result-c85c37f3-324e-427f-bf66-d9d86e2ac1e4\">\n",
              "      Upload widget is only available when the cell has been executed in the\n",
              "      current browser session. Please rerun this cell to enable.\n",
              "      </output>\n",
              "      <script src=\"/nbextensions/google.colab/files.js\"></script> "
            ],
            "text/plain": [
              "<IPython.core.display.HTML object>"
            ]
          },
          "metadata": {
            "tags": []
          }
        },
        {
          "output_type": "stream",
          "text": [
            "Saving train.csv to train (1).csv\n"
          ],
          "name": "stdout"
        },
        {
          "output_type": "execute_result",
          "data": {
            "text/html": [
              "<div>\n",
              "<style scoped>\n",
              "    .dataframe tbody tr th:only-of-type {\n",
              "        vertical-align: middle;\n",
              "    }\n",
              "\n",
              "    .dataframe tbody tr th {\n",
              "        vertical-align: top;\n",
              "    }\n",
              "\n",
              "    .dataframe thead th {\n",
              "        text-align: right;\n",
              "    }\n",
              "</style>\n",
              "<table border=\"1\" class=\"dataframe\">\n",
              "  <thead>\n",
              "    <tr style=\"text-align: right;\">\n",
              "      <th></th>\n",
              "      <th>id</th>\n",
              "      <th>vendor_id</th>\n",
              "      <th>pickup_datetime</th>\n",
              "      <th>dropoff_datetime</th>\n",
              "      <th>passenger_count</th>\n",
              "      <th>pickup_longitude</th>\n",
              "      <th>pickup_latitude</th>\n",
              "      <th>dropoff_longitude</th>\n",
              "      <th>dropoff_latitude</th>\n",
              "      <th>store_and_fwd_flag</th>\n",
              "      <th>trip_duration</th>\n",
              "    </tr>\n",
              "  </thead>\n",
              "  <tbody>\n",
              "    <tr>\n",
              "      <th>336807</th>\n",
              "      <td>id1156045</td>\n",
              "      <td>2</td>\n",
              "      <td>1/27/2016 10:27</td>\n",
              "      <td>1/27/2016 10:35</td>\n",
              "      <td>1</td>\n",
              "      <td>-73.980995</td>\n",
              "      <td>40.765984</td>\n",
              "      <td>-73.989311</td>\n",
              "      <td>40.769451</td>\n",
              "      <td>N</td>\n",
              "      <td>529</td>\n",
              "    </tr>\n",
              "    <tr>\n",
              "      <th>336808</th>\n",
              "      <td>id2782326</td>\n",
              "      <td>2</td>\n",
              "      <td>2/6/2016 12:40</td>\n",
              "      <td>2/6/2016 12:46</td>\n",
              "      <td>1</td>\n",
              "      <td>-73.972519</td>\n",
              "      <td>40.749870</td>\n",
              "      <td>-73.974709</td>\n",
              "      <td>40.758129</td>\n",
              "      <td>N</td>\n",
              "      <td>367</td>\n",
              "    </tr>\n",
              "    <tr>\n",
              "      <th>336809</th>\n",
              "      <td>id3827083</td>\n",
              "      <td>2</td>\n",
              "      <td>4/25/2016 16:51</td>\n",
              "      <td>4/25/2016 17:00</td>\n",
              "      <td>2</td>\n",
              "      <td>-73.994164</td>\n",
              "      <td>40.726551</td>\n",
              "      <td>-74.004646</td>\n",
              "      <td>40.746941</td>\n",
              "      <td>N</td>\n",
              "      <td>579</td>\n",
              "    </tr>\n",
              "    <tr>\n",
              "      <th>336810</th>\n",
              "      <td>id2891581</td>\n",
              "      <td>2</td>\n",
              "      <td>4/10/2016 18:02</td>\n",
              "      <td>4/10/2016 18:31</td>\n",
              "      <td>1</td>\n",
              "      <td>-73.982628</td>\n",
              "      <td>40.772221</td>\n",
              "      <td>-73.991455</td>\n",
              "      <td>40.714825</td>\n",
              "      <td>N</td>\n",
              "      <td>1711</td>\n",
              "    </tr>\n",
              "    <tr>\n",
              "      <th>336811</th>\n",
              "      <td>id3412806</td>\n",
              "      <td>1</td>\n",
              "      <td>2/24/2016 22:53</td>\n",
              "      <td>2/24/2016 23:06</td>\n",
              "      <td>1</td>\n",
              "      <td>-73.976631</td>\n",
              "      <td>40.750755</td>\n",
              "      <td>-73.955704</td>\n",
              "      <td>40.776230</td>\n",
              "      <td>N</td>\n",
              "      <td>777</td>\n",
              "    </tr>\n",
              "  </tbody>\n",
              "</table>\n",
              "</div>"
            ],
            "text/plain": [
              "               id  vendor_id  pickup_datetime dropoff_datetime  \\\n",
              "336807  id1156045          2  1/27/2016 10:27  1/27/2016 10:35   \n",
              "336808  id2782326          2   2/6/2016 12:40   2/6/2016 12:46   \n",
              "336809  id3827083          2  4/25/2016 16:51  4/25/2016 17:00   \n",
              "336810  id2891581          2  4/10/2016 18:02  4/10/2016 18:31   \n",
              "336811  id3412806          1  2/24/2016 22:53  2/24/2016 23:06   \n",
              "\n",
              "        passenger_count  pickup_longitude  pickup_latitude  dropoff_longitude  \\\n",
              "336807                1        -73.980995        40.765984         -73.989311   \n",
              "336808                1        -73.972519        40.749870         -73.974709   \n",
              "336809                2        -73.994164        40.726551         -74.004646   \n",
              "336810                1        -73.982628        40.772221         -73.991455   \n",
              "336811                1        -73.976631        40.750755         -73.955704   \n",
              "\n",
              "        dropoff_latitude store_and_fwd_flag  trip_duration  \n",
              "336807         40.769451                  N            529  \n",
              "336808         40.758129                  N            367  \n",
              "336809         40.746941                  N            579  \n",
              "336810         40.714825                  N           1711  \n",
              "336811         40.776230                  N            777  "
            ]
          },
          "metadata": {
            "tags": []
          },
          "execution_count": 29
        }
      ]
    },
    {
      "cell_type": "markdown",
      "metadata": {
        "id": "pUkodR8bfq0S",
        "colab_type": "text"
      },
      "source": [
        "**Visualizing and preprocessing the data**\n",
        "\n",
        "These 2 are normally done to assess the quality and quantity of data, and modify them if reuired. For example, data normaliation is done to bring the data to acceptable small ranges such as [-1,+1], to make the model deal with small numbers, and hence making computations lighter."
      ]
    },
    {
      "cell_type": "code",
      "metadata": {
        "id": "R1yckcy2ACCw",
        "colab_type": "code",
        "outputId": "23707fac-e020-4118-abd7-8d17f945de68",
        "colab": {
          "base_uri": "https://localhost:8080/",
          "height": 302
        }
      },
      "source": [
        "# using log of output lets the model to deal with small number and \n",
        "# then train better on data\n",
        "train['log_trip_duration'] = np.log(train['trip_duration'].values + 1)\n",
        "plt.hist(train['log_trip_duration'].values, bins=100)\n",
        "plt.xlabel('log(Trip Duration)')\n",
        "plt.ylabel('# of trips')"
      ],
      "execution_count": 30,
      "outputs": [
        {
          "output_type": "execute_result",
          "data": {
            "text/plain": [
              "Text(0, 0.5, '# of trips')"
            ]
          },
          "metadata": {
            "tags": []
          },
          "execution_count": 30
        },
        {
          "output_type": "display_data",
          "data": {
            "image/png": "[encoded data removed]",
            "text/plain": [
              "<Figure size 432x288 with 1 Axes>"
            ]
          },
          "metadata": {
            "tags": []
          }
        }
      ]
    },
    {
      "cell_type": "code",
      "metadata": {
        "id": "DWlSMzHAc86a",
        "colab_type": "code",
        "outputId": "7bb5e2ed-4fec-4a0b-80b7-ea288fd5a77a",
        "colab": {
          "base_uri": "https://localhost:8080/",
          "height": 269
        }
      },
      "source": [
        "n=100000 # select a subset of data\n",
        "fig, ax = plt.subplots(ncols=2, sharex=True, sharey=True)\n",
        "ax[0].scatter(train['pickup_longitude'].values[:n],train['pickup_latitude'].values[:n], \n",
        "color='green', s=1, label='train') \n",
        "ax[1].scatter(train['dropoff_longitude'].values[:n],train['dropoff_latitude'].values[:n], \n",
        "color='green', s=1, label='train') \n",
        "plt.show()"
      ],
      "execution_count": 31,
      "outputs": [
        {
          "output_type": "display_data",
          "data": {
            "image/png": "[encoded data removed]",
            "text/plain": [
              "<Figure size 432x288 with 2 Axes>"
            ]
          },
          "metadata": {
            "tags": []
          }
        }
      ]
    },
    {
      "cell_type": "code",
      "metadata": {
        "id": "KRsMDOEn0EbU",
        "colab_type": "code",
        "outputId": "5976e213-c21d-4fc0-c1b9-47fd9bc3db62",
        "colab": {
          "base_uri": "https://localhost:8080/",
          "height": 361
        }
      },
      "source": [
        "f = plt.figure(figsize=(15,5))\n",
        "sns.countplot(x='trip_duration', data=train)\n",
        "plt.xlabel('Data Point', fontsize=14)\n",
        "plt.ylabel('Trip Duration', fontsize=14)\n",
        "plt.show()"
      ],
      "execution_count": 27,
      "outputs": [
        {
          "output_type": "display_data",
          "data": {
            "image/png": "[encoded data removed]",
            "text/plain": [
              "<Figure size 1080x360 with 1 Axes>"
            ]
          },
          "metadata": {
            "tags": []
          }
        }
      ]
    },
    {
      "cell_type": "markdown",
      "metadata": {
        "id": "U0af4RCCgjQa",
        "colab_type": "text"
      },
      "source": [
        "**Feature Extraction:**\n",
        "\n",
        "As an example pick time is extracted from the data as a feature:"
      ]
    },
    {
      "cell_type": "code",
      "metadata": {
        "id": "_B9gFtJ2gguU",
        "colab_type": "code",
        "colab": {
          "base_uri": "https://localhost:8080/",
          "height": 132
        },
        "outputId": "89413ca8-3162-4887-fdcd-16180ef42019"
      },
      "source": [
        "train[\"pickup_hour\"] = [t.hour for t in pd.DatetimeIndex(train.pickup_datetime)]\n",
        "train.head(2)"
      ],
      "execution_count": 32,
      "outputs": [
        {
          "output_type": "execute_result",
          "data": {
            "text/html": [
              "<div>\n",
              "<style scoped>\n",
              "    .dataframe tbody tr th:only-of-type {\n",
              "        vertical-align: middle;\n",
              "    }\n",
              "\n",
              "    .dataframe tbody tr th {\n",
              "        vertical-align: top;\n",
              "    }\n",
              "\n",
              "    .dataframe thead th {\n",
              "        text-align: right;\n",
              "    }\n",
              "</style>\n",
              "<table border=\"1\" class=\"dataframe\">\n",
              "  <thead>\n",
              "    <tr style=\"text-align: right;\">\n",
              "      <th></th>\n",
              "      <th>id</th>\n",
              "      <th>vendor_id</th>\n",
              "      <th>pickup_datetime</th>\n",
              "      <th>dropoff_datetime</th>\n",
              "      <th>passenger_count</th>\n",
              "      <th>pickup_longitude</th>\n",
              "      <th>pickup_latitude</th>\n",
              "      <th>dropoff_longitude</th>\n",
              "      <th>dropoff_latitude</th>\n",
              "      <th>store_and_fwd_flag</th>\n",
              "      <th>trip_duration</th>\n",
              "      <th>log_trip_duration</th>\n",
              "      <th>pickup_hour</th>\n",
              "    </tr>\n",
              "  </thead>\n",
              "  <tbody>\n",
              "    <tr>\n",
              "      <th>0</th>\n",
              "      <td>id2875421</td>\n",
              "      <td>2</td>\n",
              "      <td>3/14/2016 17:24</td>\n",
              "      <td>3/14/2016 17:32</td>\n",
              "      <td>1</td>\n",
              "      <td>-73.982155</td>\n",
              "      <td>40.767937</td>\n",
              "      <td>-73.964630</td>\n",
              "      <td>40.765602</td>\n",
              "      <td>N</td>\n",
              "      <td>455</td>\n",
              "      <td>6.122493</td>\n",
              "      <td>17</td>\n",
              "    </tr>\n",
              "    <tr>\n",
              "      <th>1</th>\n",
              "      <td>id2377394</td>\n",
              "      <td>1</td>\n",
              "      <td>6/12/2016 0:43</td>\n",
              "      <td>6/12/2016 0:54</td>\n",
              "      <td>1</td>\n",
              "      <td>-73.980415</td>\n",
              "      <td>40.738564</td>\n",
              "      <td>-73.999481</td>\n",
              "      <td>40.731152</td>\n",
              "      <td>N</td>\n",
              "      <td>663</td>\n",
              "      <td>6.498282</td>\n",
              "      <td>0</td>\n",
              "    </tr>\n",
              "  </tbody>\n",
              "</table>\n",
              "</div>"
            ],
            "text/plain": [
              "          id  vendor_id  pickup_datetime dropoff_datetime  passenger_count  \\\n",
              "0  id2875421          2  3/14/2016 17:24  3/14/2016 17:32                1   \n",
              "1  id2377394          1   6/12/2016 0:43   6/12/2016 0:54                1   \n",
              "\n",
              "   pickup_longitude  pickup_latitude  dropoff_longitude  dropoff_latitude  \\\n",
              "0        -73.982155        40.767937         -73.964630         40.765602   \n",
              "1        -73.980415        40.738564         -73.999481         40.731152   \n",
              "\n",
              "  store_and_fwd_flag  trip_duration  log_trip_duration  pickup_hour  \n",
              "0                  N            455           6.122493           17  \n",
              "1                  N            663           6.498282            0  "
            ]
          },
          "metadata": {
            "tags": []
          },
          "execution_count": 32
        }
      ]
    },
    {
      "cell_type": "code",
      "metadata": {
        "id": "07XNQ_5H1iJt",
        "colab_type": "code",
        "outputId": "7fe54853-c87a-47fe-d1a4-8d4e47d683f0",
        "colab": {
          "base_uri": "https://localhost:8080/",
          "height": 101
        }
      },
      "source": [
        "y = train[\"log_trip_duration\"]\n",
        "X = train[['pickup_hour','pickup_longitude', 'pickup_latitude', 'dropoff_longitude', 'dropoff_latitude']] \t\n",
        "X.sample()\n",
        "\n",
        "# split the data into training and test sets\n",
        "from sklearn.model_selection import train_test_split\n",
        "X_train, X_test, y_train, y_test = train_test_split(X, y, test_size=0.2, random_state=40)\n",
        "X_train.sample()"
      ],
      "execution_count": 33,
      "outputs": [
        {
          "output_type": "execute_result",
          "data": {
            "text/html": [
              "<div>\n",
              "<style scoped>\n",
              "    .dataframe tbody tr th:only-of-type {\n",
              "        vertical-align: middle;\n",
              "    }\n",
              "\n",
              "    .dataframe tbody tr th {\n",
              "        vertical-align: top;\n",
              "    }\n",
              "\n",
              "    .dataframe thead th {\n",
              "        text-align: right;\n",
              "    }\n",
              "</style>\n",
              "<table border=\"1\" class=\"dataframe\">\n",
              "  <thead>\n",
              "    <tr style=\"text-align: right;\">\n",
              "      <th></th>\n",
              "      <th>pickup_hour</th>\n",
              "      <th>pickup_longitude</th>\n",
              "      <th>pickup_latitude</th>\n",
              "      <th>dropoff_longitude</th>\n",
              "      <th>dropoff_latitude</th>\n",
              "    </tr>\n",
              "  </thead>\n",
              "  <tbody>\n",
              "    <tr>\n",
              "      <th>251955</th>\n",
              "      <td>19</td>\n",
              "      <td>-73.993477</td>\n",
              "      <td>40.740131</td>\n",
              "      <td>-74.000092</td>\n",
              "      <td>40.734779</td>\n",
              "    </tr>\n",
              "  </tbody>\n",
              "</table>\n",
              "</div>"
            ],
            "text/plain": [
              "        pickup_hour  pickup_longitude  pickup_latitude  dropoff_longitude  \\\n",
              "251955           19        -73.993477        40.740131         -74.000092   \n",
              "\n",
              "        dropoff_latitude  \n",
              "251955         40.734779  "
            ]
          },
          "metadata": {
            "tags": []
          },
          "execution_count": 33
        }
      ]
    },
    {
      "cell_type": "markdown",
      "metadata": {
        "id": "K_FHU1bpjEvS",
        "colab_type": "text"
      },
      "source": [
        "**Model Selection and Structuring**\n",
        "In general is a big task that comes with experience. Normally it follows the \"No Free Lunch Theorem\", which means there's no single model/algorithm that's good for problems. For the purpose of this study we start with decision trees."
      ]
    },
    {
      "cell_type": "markdown",
      "metadata": {
        "id": "zTYfTQ4qAl1T",
        "colab_type": "text"
      },
      "source": [
        "**1- Decision Tree Method**"
      ]
    },
    {
      "cell_type": "code",
      "metadata": {
        "id": "yLB84NwOAk-n",
        "colab_type": "code",
        "outputId": "6a323d47-e677-4fe3-b29f-44d2cdca3aad",
        "colab": {
          "base_uri": "https://localhost:8080/",
          "height": 54
        }
      },
      "source": [
        "from sklearn import tree \n",
        "\n",
        "# Make a decision tree model and train\n",
        "tree_model = tree.DecisionTreeRegressor(max_depth = 100, random_state=40)  \n",
        "\n",
        "tree_model = tree_model.fit(X_train, y_train) \n",
        "\n",
        "# Analyzing Accuracies\n",
        "print(f'Training Accuracy: {tree_model.score(X_train, y_train)}')\n",
        "print(f'Test Accuracy: {tree_model.score(X_test, y_test)}')\n"
      ],
      "execution_count": 34,
      "outputs": [
        {
          "output_type": "stream",
          "text": [
            "Training Accuracy: 0.9999999999233692\n",
            "Test Accuracy: 0.372901071001295\n"
          ],
          "name": "stdout"
        }
      ]
    },
    {
      "cell_type": "markdown",
      "metadata": {
        "id": "YMpXkOAZn4w1",
        "colab_type": "text"
      },
      "source": [
        "The model has a high accuracy of almost 100% on the training data but a poor accuracy of 37% on the test data. This is a clear indication of overfitting, which is the main cons of decision trees. "
      ]
    },
    {
      "cell_type": "markdown",
      "metadata": {
        "id": "_hQKaTkqGkxJ",
        "colab_type": "text"
      },
      "source": [
        "**Visualizing the model**\n",
        "\n",
        "To get some idea about how the mddel works the code below can be used. The most imprtant parameter in decision trees is the giny impurity parameter that indicates the liklihood of a sample being wrongly classified if the distribution of the samples at that node is used. Giny must decrease from root to leaf nodes."
      ]
    },
    {
      "cell_type": "code",
      "metadata": {
        "id": "XP05AUj2DQg4",
        "colab_type": "code",
        "colab": {}
      },
      "source": [
        "import graphviz \n",
        "dot_data = tree.export_graphviz(tree_model, out_file=None) \n",
        "graph = graphviz.Source(dot_data) \n",
        "graph.render(\"Data_train\")\n",
        "data = tree.export_graphviz(tree_model, out_file=None,filled=True,rounded=True, special_characters=True)\n",
        "#...                      feature_names=X_train.feature_names,  \n",
        "#...                      class_names=X_train.target_names,  \n",
        "#...              filled=True, rounded=True, special_characters=True) \n",
        "\n",
        "\n",
        "#graph = graphviz.Source(data)  \n",
        "#graph "
      ],
      "execution_count": 0,
      "outputs": []
    },
    {
      "cell_type": "markdown",
      "metadata": {
        "id": "Pq_8DjvZL7lN",
        "colab_type": "text"
      },
      "source": [
        "\n",
        "\n",
        "> \n",
        ">\n",
        "\n",
        "\n",
        "**2- Random Forest = Ensemble (Combination of Decision Trees) + Bagging + Feature Subsetting**\n",
        "\n",
        "Overfitting is the main problem of Decision Trees. Since no depth is specified, it can keep growing until it has only one leaf node for every single observation, perfectly classifying all of them, which leads to memorizing all the training data, but not enough capability to generalize its learnings. \n",
        "Random Forest solves this problem through using many decision tress, instead of one that are trained on random sample of data, and finally combining - ensembling- these small decision tree models through averaging.\n",
        ">>\n",
        "Random forest has 3 main elements:\n",
        "1) Ensemble: Model is composed of hundreds of individual decision trees.\n",
        "2) Bagging: a subset of samples are used to train each individual model (generated by bootstraping)\n",
        "3) Training each model on a random subset of features (normally sqrt(n), n being the number of features)\n"
      ]
    },
    {
      "cell_type": "markdown",
      "metadata": {
        "id": "kDrYlK2UqQlw",
        "colab_type": "text"
      },
      "source": [
        "Random Forest Parameter Tuning:\n",
        "\n",
        "n_estimtor and max_features are the main parameters to tune. For reqression problems max_features should be equal to the number of features (which makes the random forest the same as bagging), however, for classification problems it should be equal to sqrt(number of features). A higher value increases the bias and reduces the variance.\n",
        "\n",
        "\n",
        "n_jobs defines the nomber of computation cores being used for the sake of parallel computation "
      ]
    },
    {
      "cell_type": "code",
      "metadata": {
        "id": "RgsihK9m_5nZ",
        "colab_type": "code",
        "outputId": "a3002ece-da03-4ca5-b92f-a704114d6708",
        "colab": {
          "base_uri": "https://localhost:8080/",
          "height": 54
        }
      },
      "source": [
        "from sklearn.ensemble import RandomForestRegressor\n",
        "\n",
        "RFR = RandomForestRegressor(n_estimators=50, max_features=5, \n",
        "                             min_samples_leaf=4, min_samples_split=2,\n",
        "                             max_depth=None, bootstrap=True,\n",
        "                             n_jobs=-1, random_state=40)\n",
        "RFR.fit(X, y)\n",
        "\n",
        "#print(RFR.predict([[0, 0, 0, 0]]))\n",
        "print(f'Training Accuracy: {RFR.score(X_train, y_train)}')\n",
        "print(f'Test Accuracy: {RFR.score(X_test, y_test)}')"
      ],
      "execution_count": 35,
      "outputs": [
        {
          "output_type": "stream",
          "text": [
            "Training Accuracy: 0.8598010772007656\n",
            "Test Accuracy: 0.856884397213319\n"
          ],
          "name": "stdout"
        }
      ]
    },
    {
      "cell_type": "markdown",
      "metadata": {
        "id": "Ng4kzVo3qstE",
        "colab_type": "text"
      },
      "source": [
        "The accuracy of about 85% for both training and test data suggest that the random forest model solves the overfitting problem of decision trees."
      ]
    },
    {
      "cell_type": "markdown",
      "metadata": {
        "id": "xL7PRmtfq4oO",
        "colab_type": "text"
      },
      "source": [
        "and here's a useful method to get some idea about the importance of each feature:"
      ]
    },
    {
      "cell_type": "code",
      "metadata": {
        "id": "HnotBG6Eq29A",
        "colab_type": "code",
        "colab": {
          "base_uri": "https://localhost:8080/",
          "height": 36
        },
        "outputId": "d84a186b-69a1-4e4d-a027-4a8e64f64855"
      },
      "source": [
        "print(RFR.feature_importances_)"
      ],
      "execution_count": 36,
      "outputs": [
        {
          "output_type": "stream",
          "text": [
            "[0.05225422 0.24779373 0.27168294 0.22678733 0.20148177]\n"
          ],
          "name": "stdout"
        }
      ]
    },
    {
      "cell_type": "markdown",
      "metadata": {
        "id": "wjjcBi_gtYZ-",
        "colab_type": "text"
      },
      "source": [
        "This analysis says that the pick time has an importance of 5% while the pick up/dropp off location features have importance in the order of 20%, which basically says that the pick up time is not really as important as pick up/drop off location in New York.  "
      ]
    },
    {
      "cell_type": "markdown",
      "metadata": {
        "id": "RcAO9-9DI3ZP",
        "colab_type": "text"
      },
      "source": [
        "\n",
        "\n",
        "---\n",
        "\n",
        "\n",
        "\n",
        "---\n",
        "\n",
        "\n",
        "\n",
        "---\n",
        "\n",
        "\n",
        "\n",
        "Next to be added: Gradient Boosting, XGB,...\n",
        "\n",
        "---\n",
        "\n",
        "\n"
      ]
    }
  ]
}